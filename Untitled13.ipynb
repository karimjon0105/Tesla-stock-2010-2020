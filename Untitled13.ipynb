{
 "cells": [
  {
   "cell_type": "code",
   "execution_count": 1,
   "id": "1b67f867",
   "metadata": {},
   "outputs": [
    {
     "name": "stdout",
     "output_type": "stream",
     "text": [
      "                    Model  Peak Power  Acceleration   price  weight  \\\n",
      "0                 MOdel S         670          3.10   88740    4561   \n",
      "1           Model S Plaid        1020          1.99  123740    4766   \n",
      "2                 Model 3           0          5.80   38940    3582   \n",
      "3          Long Range AWD           0          4.20   44940    4065   \n",
      "4   Range and performance           0          3.10   52940    4065   \n",
      "5                 Model X         670          3.80   98940    5185   \n",
      "6           Model X plaid        1020          2.50  113940    5390   \n",
      "7     Model Y performance           0          3.50   56940    4416   \n",
      "8  Model Y Long range AWD           0          4.80   51940    4416   \n",
      "\n",
      "         powertrain supercharging  top speed  range  \n",
      "0        Dual Motor           250        155    405  \n",
      "1         Tri motor           250        200    396  \n",
      "2  Rear-wheel Drive           170        140    272  \n",
      "3        Dual motor           250        145    358  \n",
      "4        Dual motor           250        162    315  \n",
      "5        Dual motor           250        155    348  \n",
      "6         Tri motor           250        163    333  \n",
      "7        Dual motor   pay per use        155    303  \n",
      "8        Dual motor   pay per use        135    330  \n"
     ]
    }
   ],
   "source": [
    "import pandas as pd\n",
    "\n",
    "mydataset = {\n",
    "  'Model': [\"MOdel S\",\"Model S Plaid\", \"Model 3\",\"Long Range AWD\",\"Range and performance\", \"Model X\",\"Model X plaid\",\"Model Y performance\",\"Model Y Long range AWD\"],\n",
    "  #power in horsepower\n",
    "    'Peak Power': [670,1020,0,0,0,670,1020,0,0],\n",
    "  #acceleration in second to 100km\n",
    "    'Acceleration': [3.1,1.99,5.8,4.2,3.1,3.8,2.5,3.5,4.8],\n",
    "   #price in dollars and potential savings\n",
    "    'price': [88740,123740,38940,44940,52940,98940,113940,56940,51940],\n",
    "   # weight in lbs\n",
    "    'weight': [4561,4766,3582,4065,4065,5185,5390,4416,4416],\n",
    "    'powertrain': [\"Dual Motor\",\"Tri motor\",\"Rear-wheel Drive\",\"Dual motor\",\"Dual motor\",\"Dual motor\",\"Tri motor\",\"Dual motor\",\"Dual motor\"],\n",
    "    # in kW\n",
    "    'supercharging': [250,250,170,250,250,250,250,\"pay per use\",\"pay per use\"],\n",
    "    #top speed in mph\n",
    "    'top speed': [155,200,140,145,162,155,163,155,135],\n",
    "    #range in miles\n",
    "    'range': [405,396,272,358,315,348,333,303,330]\n",
    "}\n",
    "#myvar = pd.Series(mydataset)\n",
    "\n",
    "#myvar = pd.DataFrame(mydataset)\n",
    "df = pd.DataFrame(mydataset)\n",
    "\n",
    "\n",
    "print(df)\n",
    "\n",
    "\n"
   ]
  },
  {
   "cell_type": "code",
   "execution_count": null,
   "id": "01d88b39",
   "metadata": {},
   "outputs": [],
   "source": []
  },
  {
   "cell_type": "code",
   "execution_count": null,
   "id": "8afbfade",
   "metadata": {},
   "outputs": [],
   "source": []
  },
  {
   "cell_type": "code",
   "execution_count": null,
   "id": "f4d9ecf3",
   "metadata": {},
   "outputs": [],
   "source": []
  }
 ],
 "metadata": {
  "kernelspec": {
   "display_name": "Python 3",
   "language": "python",
   "name": "python3"
  },
  "language_info": {
   "codemirror_mode": {
    "name": "ipython",
    "version": 3
   },
   "file_extension": ".py",
   "mimetype": "text/x-python",
   "name": "python",
   "nbconvert_exporter": "python",
   "pygments_lexer": "ipython3",
   "version": "3.8.8"
  }
 },
 "nbformat": 4,
 "nbformat_minor": 5
}
